{
 "cells": [
  {
   "cell_type": "code",
   "execution_count": 11,
   "id": "a95734cf",
   "metadata": {},
   "outputs": [],
   "source": [
    "INPUT_BASE_DIR = \"data/input\"\n",
    "OUTPUT_BASE_DIR = \"data/output\""
   ]
  },
  {
   "cell_type": "code",
   "execution_count": 12,
   "id": "5971e8ff-aebd-4611-ad4e-8520db1d89d2",
   "metadata": {},
   "outputs": [
    {
     "name": "stdout",
     "output_type": "stream",
     "text": [
      "1\n",
      "{'/Contents': IndirectObject(15, 0, 4607984880), '/Type': '/Page', '/Resources': {'/ProcSet': ['/PDF', '/Text', '/ImageB', '/ImageC', '/ImageI'], '/Font': {'/F1': IndirectObject(4, 0, 4607984880), '/F2': IndirectObject(9, 0, 4607984880)}, '/XObject': {'/img9': IndirectObject(13, 0, 4607984880), '/img8': IndirectObject(12, 0, 4607984880), '/img7': IndirectObject(11, 0, 4607984880), '/img6': IndirectObject(10, 0, 4607984880), '/img5': IndirectObject(8, 0, 4607984880), '/img4': IndirectObject(7, 0, 4607984880), '/img3': IndirectObject(6, 0, 4607984880), '/img2': IndirectObject(5, 0, 4607984880), '/img1': IndirectObject(3, 0, 4607984880), '/img0': IndirectObject(2, 0, 4607984880)}}, '/Annots': [IndirectObject(14, 0, 4607984880)], '/Parent': IndirectObject(16, 0, 4607984880), '/MediaBox': [0, 0, 595.28, 841.88]}\n"
     ]
    }
   ],
   "source": [
    "from pypdf import PdfReader\n",
    "\n",
    "# creating a pdf reader object\n",
    "reader = PdfReader(f'{INPUT_BASE_DIR}/31.05.2024.pdf')\n",
    "\n",
    "\n",
    "# printing number of pages in pdf file\n",
    "print(len(reader.pages))\n",
    "\n",
    "# getting a specific page from the pdf file\n",
    "page = reader.pages[0]\n",
    "\n",
    "# # extracting text from page\n",
    "# text = page.extract_text()\n",
    "print(page)"
   ]
  },
  {
   "cell_type": "code",
   "execution_count": 13,
   "id": "da76fc5f-b88e-45e2-8046-93e7ea8254a0",
   "metadata": {},
   "outputs": [
    {
     "name": "stdout",
     "output_type": "stream",
     "text": [
      "Filtered data saved to CSV file.\n"
     ]
    }
   ],
   "source": [
    "import PyPDF2\n",
    "import pandas as pd\n",
    "\n",
    "# Define keywords to search for\n",
    "keywords = ['Heizung', 'Warmwasser', 'Einheiten','aktueller Monat']  # Example keywords\n",
    "\n",
    "# Function to check if a line contains any of the keywords\n",
    "def contains_keyword(line, keywords):\n",
    "    return any(keyword.lower() in line.lower() for keyword in keywords)\n",
    "\n",
    "# Open the PDF file\n",
    "pdf_path = f\"{INPUT_BASE_DIR}/31.05.2024.pdf\"\n",
    "with open(pdf_path, \"rb\") as file:\n",
    "    reader = PyPDF2.PdfReader(file)\n",
    "    \n",
    "    # Select the third page (index 2)\n",
    "    page = reader.pages[0]\n",
    "    \n",
    "    # Extract text from the page\n",
    "    text = page.extract_text()\n",
    "    \n",
    "    # Split the text into lines\n",
    "    lines = text.split('\\n') if text else []\n",
    "\n",
    "    # Filter lines based on keywords\n",
    "    filtered_lines = [line for line in lines if contains_keyword(line, keywords)]\n",
    "\n",
    "# Prepare data for DataFrame\n",
    "text_data = [{'line': line} for line in filtered_lines]\n",
    "\n",
    "# Create DataFrame\n",
    "df_filtered = pd.DataFrame(text_data)\n",
    "\n",
    "# Save DataFrame to CSV\n",
    "df_filtered.to_csv(f\"{OUTPUT_BASE_DIR}/filtered_lines.csv\", index=False)\n",
    "\n",
    "print(\"Filtered data saved to CSV file.\")\n"
   ]
  },
  {
   "cell_type": "code",
   "execution_count": 14,
   "id": "b9c3b993-3074-4a3f-936c-c963f1bc07ee",
   "metadata": {},
   "outputs": [
    {
     "name": "stdout",
     "output_type": "stream",
     "text": [
      "Filtered rectangles saved to CSV file.\n"
     ]
    }
   ],
   "source": [
    "import pdfplumber\n",
    "import pandas as pd\n",
    "\n",
    "# Define keywords to search for\n",
    "keywords = ['Verbrauch im','Heizung', 'Warmwasser', 'Einheiten','aktueller Monat']  # Example keywords\n",
    "\n",
    "# Function to check if a line contains any of the keywords\n",
    "def contains_keyword(line, keywords):\n",
    "    return any(keyword.lower() in line.lower() for keyword in keywords)\n",
    "\n",
    "# Open the PDF file\n",
    "pdf_path = f\"{INPUT_BASE_DIR}/31.05.2024.pdf\"\n",
    "with pdfplumber.open(pdf_path) as pdf:\n",
    "    page = pdf.pages[0]\n",
    "    \n",
    "    # Extract text and bounding boxes\n",
    "    text_data = []\n",
    "    for word in page.extract_words():\n",
    "        text = word['text']\n",
    "        if contains_keyword(text, keywords):\n",
    "            text_data.append({\n",
    "                'text': text,\n",
    "                'x0': word['x0'],\n",
    "                'y0': word['top'],\n",
    "                'x1': word['x1'],\n",
    "                'y1': word['bottom']\n",
    "            })\n",
    "\n",
    "    # Create DataFrame\n",
    "    df_filtered = pd.DataFrame(text_data)\n",
    "    \n",
    "    # Save DataFrame to CSV\n",
    "    df_filtered.to_csv(f\"{OUTPUT_BASE_DIR}/filtered_rectangles.csv\", index=False)\n",
    "\n",
    "print(\"Filtered rectangles saved to CSV file.\")\n"
   ]
  },
  {
   "cell_type": "code",
   "execution_count": 15,
   "id": "ac763c71-e817-4abe-9c73-829176e2a04d",
   "metadata": {},
   "outputs": [
    {
     "data": {
      "text/html": [
       "<div>\n",
       "<style scoped>\n",
       "    .dataframe tbody tr th:only-of-type {\n",
       "        vertical-align: middle;\n",
       "    }\n",
       "\n",
       "    .dataframe tbody tr th {\n",
       "        vertical-align: top;\n",
       "    }\n",
       "\n",
       "    .dataframe thead th {\n",
       "        text-align: right;\n",
       "    }\n",
       "</style>\n",
       "<table border=\"1\" class=\"dataframe\">\n",
       "  <thead>\n",
       "    <tr style=\"text-align: right;\">\n",
       "      <th></th>\n",
       "      <th>text</th>\n",
       "      <th>x0</th>\n",
       "      <th>y0</th>\n",
       "      <th>x1</th>\n",
       "      <th>y1</th>\n",
       "    </tr>\n",
       "  </thead>\n",
       "  <tbody>\n",
       "    <tr>\n",
       "      <th>0</th>\n",
       "      <td>Heizung</td>\n",
       "      <td>89.440</td>\n",
       "      <td>480.485</td>\n",
       "      <td>133.19125</td>\n",
       "      <td>491.735</td>\n",
       "    </tr>\n",
       "    <tr>\n",
       "      <th>1</th>\n",
       "      <td>Einheiten</td>\n",
       "      <td>202.385</td>\n",
       "      <td>498.730</td>\n",
       "      <td>233.64500</td>\n",
       "      <td>506.230</td>\n",
       "    </tr>\n",
       "    <tr>\n",
       "      <th>2</th>\n",
       "      <td>Einheiten</td>\n",
       "      <td>263.165</td>\n",
       "      <td>498.730</td>\n",
       "      <td>294.42500</td>\n",
       "      <td>506.230</td>\n",
       "    </tr>\n",
       "    <tr>\n",
       "      <th>3</th>\n",
       "      <td>Einheiten</td>\n",
       "      <td>331.755</td>\n",
       "      <td>498.730</td>\n",
       "      <td>363.01500</td>\n",
       "      <td>506.230</td>\n",
       "    </tr>\n",
       "    <tr>\n",
       "      <th>4</th>\n",
       "      <td>Warmwasser</td>\n",
       "      <td>89.440</td>\n",
       "      <td>530.215</td>\n",
       "      <td>160.07875</td>\n",
       "      <td>541.465</td>\n",
       "    </tr>\n",
       "  </tbody>\n",
       "</table>\n",
       "</div>"
      ],
      "text/plain": [
       "         text       x0       y0         x1       y1\n",
       "0     Heizung   89.440  480.485  133.19125  491.735\n",
       "1   Einheiten  202.385  498.730  233.64500  506.230\n",
       "2   Einheiten  263.165  498.730  294.42500  506.230\n",
       "3   Einheiten  331.755  498.730  363.01500  506.230\n",
       "4  Warmwasser   89.440  530.215  160.07875  541.465"
      ]
     },
     "execution_count": 15,
     "metadata": {},
     "output_type": "execute_result"
    }
   ],
   "source": [
    "df_filtered"
   ]
  },
  {
   "cell_type": "code",
   "execution_count": 16,
   "id": "ad533491-66bb-42f7-9f77-f18b91eb9347",
   "metadata": {},
   "outputs": [
    {
     "name": "stdout",
     "output_type": "stream",
     "text": [
      "Extracted Text:\n",
      "Verbrauch im Verbrauch im April Verbrauch im Mai aktueller Monat im Vergleich\n",
      "Mai 2024 2024 2023 anderen Haushalten\n",
      "Heizung 0 kWh 4 kWh 0 kWh 100 % weniger verbrau\n",
      "0 Einheiten 3 Einheiten 0 Einheiten\n",
      "Warmwasser 172 kWh 61 kWh 133 kWh 45 % mehr verbraucht\n",
      "1,7 m³ 0,6 m³ 1,5 m³\n"
     ]
    }
   ],
   "source": [
    "rect = (50, 430, 500, 560)  # Example coordinates\n",
    "\n",
    "# Open the PDF file\n",
    "pdf_path = f\"{INPUT_BASE_DIR}/31.05.2024.pdf\"\n",
    "with pdfplumber.open(pdf_path) as pdf:\n",
    "    # Select the page\n",
    "    page = pdf.pages[0]  # Page index starts at 0\n",
    "\n",
    "    # Crop to the rectangular area\n",
    "    cropped_page = page.within_bbox(rect)\n",
    "    \n",
    "    # Extract text from the cropped area\n",
    "    text = cropped_page.extract_text()\n",
    "\n",
    "print(\"Extracted Text:\")\n",
    "print(text)"
   ]
  },
  {
   "cell_type": "code",
   "execution_count": 17,
   "id": "f26c7977-fb6e-45aa-8238-ca4dc4f4f495",
   "metadata": {},
   "outputs": [],
   "source": [
    "import tabula\n",
    "\n",
    "# tabula.environment_info()\n"
   ]
  },
  {
   "cell_type": "code",
   "execution_count": 18,
   "id": "6fcb3b00-4195-40a7-8f27-66b2cd14d190",
   "metadata": {},
   "outputs": [
    {
     "name": "stderr",
     "output_type": "stream",
     "text": [
      "'pages' argument isn't specified.Will extract only from page 1 by default.\n",
      "Got stderr: Sep 04, 2024 11:59:17 AM org.apache.pdfbox.pdmodel.font.PDTrueTypeFont <init>\n",
      "WARNING: Using fallback font 'Helvetica' for 'UniversLTPro-45Light'\n",
      "Sep 04, 2024 11:59:17 AM org.apache.pdfbox.pdmodel.font.PDTrueTypeFont <init>\n",
      "WARNING: Using fallback font 'Helvetica-Bold' for 'UniversLTPro-65Bold'\n",
      "Sep 04, 2024 11:59:17 AM org.apache.pdfbox.pdmodel.font.PDTrueTypeFont <init>\n",
      "WARNING: Using fallback font 'Helvetica' for 'UniversLTPro-45Light'\n",
      "Sep 04, 2024 11:59:17 AM org.apache.pdfbox.pdmodel.font.PDTrueTypeFont <init>\n",
      "WARNING: Using fallback font 'Helvetica-Bold' for 'UniversLTPro-65Bold'\n",
      "\n"
     ]
    }
   ],
   "source": [
    "dfs = tabula.read_pdf(f'{INPUT_BASE_DIR}/31.05.2024.pdf', stream=True)\n"
   ]
  }
 ],
 "metadata": {
  "kernelspec": {
   "display_name": "Python 3 (ipykernel)",
   "language": "python",
   "name": "python3"
  },
  "language_info": {
   "codemirror_mode": {
    "name": "ipython",
    "version": 3
   },
   "file_extension": ".py",
   "mimetype": "text/x-python",
   "name": "python",
   "nbconvert_exporter": "python",
   "pygments_lexer": "ipython3",
   "version": "3.9.6"
  }
 },
 "nbformat": 4,
 "nbformat_minor": 5
}
